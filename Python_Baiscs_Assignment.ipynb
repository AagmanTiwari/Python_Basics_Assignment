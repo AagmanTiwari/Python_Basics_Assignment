{
 "cells": [
  {
   "cell_type": "markdown",
   "id": "8704dbb0-836a-4900-aab0-feb0ad326a6e",
   "metadata": {},
   "source": [
    "01. Explain the key features of python that make it a popular choice for programming.\n"
   ]
  },
  {
   "cell_type": "raw",
   "id": "151e6a69-3a3a-4e0c-b5e8-4f754c56bb77",
   "metadata": {},
   "source": [
    "Key features of Python that make it popular:\n",
    "\n",
    "Easy to Learn & Use: Simple, readable syntax, suitable for beginners and professionals alike.\n",
    "Interpreted Language: Executes code line by line, making debugging easier.\n",
    "Dynamically Typed: No need to declare variable types explicitly.\n",
    "Extensive Libraries & Frameworks: Offers a wide range of libraries (NumPy, Pandas, TensorFlow, etc.) for diverse tasks like data science, web development, and AI.\n",
    "Cross-Platform: Runs on various operating systems like Windows, Linux, and macOS.\n",
    "Large Community & Support: Vast community, ensuring abundant resources and support.\n",
    "Object-Oriented & Functional: Supports multiple programming paradigms.\n",
    "Versatile: Can be used for web development, automation, data analysis, machine learning, and more."
   ]
  },
  {
   "cell_type": "markdown",
   "id": "840fa5d7-68d5-445b-a4c4-ed306d5e78f3",
   "metadata": {},
   "source": [
    "02) Describe the role of predefined keywords in python and provide examples of how they are used in a program."
   ]
  },
  {
   "cell_type": "raw",
   "id": "eb02e4d9-a360-48ad-9058-29e7b86f09ef",
   "metadata": {},
   "source": [
    "Role of Predefined Keywords in Python\n",
    "Reserved Words: Have specific meanings and cannot be used as identifiers.\n",
    "Control Program Flow: Manage conditions (if, else), loops (for, while), and function returns (return).\n",
    "Define Structure: Used to define functions (def), classes (class), and modules.\n",
    "Exception Handling: Manage errors with keywords like try, except, and finally.\n",
    "Variable Management: Control variable scope with global, nonlocal, and del.\n",
    "Case-Sensitive: Must be used exactly as defined in lowercase.\n",
    "\n",
    "\n",
    "\n",
    "\n",
    "\n"
   ]
  },
  {
   "cell_type": "code",
   "execution_count": 1,
   "id": "1ba27354-ae6a-43be-860e-616f5649a2a6",
   "metadata": {},
   "outputs": [
    {
     "name": "stdout",
     "output_type": "stream",
     "text": [
      "Adult\n"
     ]
    }
   ],
   "source": [
    "# Conditional Statement (if, else)\n",
    "\n",
    "age = 20\n",
    "if age >= 18:\n",
    "    print(\"Adult\")\n",
    "else:\n",
    "    print(\"not adult\")"
   ]
  },
  {
   "cell_type": "code",
   "execution_count": 2,
   "id": "7033e561-a6e1-4e66-9c46-8af5fc12933d",
   "metadata": {},
   "outputs": [
    {
     "name": "stdout",
     "output_type": "stream",
     "text": [
      "0\n",
      "1\n",
      "2\n"
     ]
    }
   ],
   "source": [
    "# Loop (for)\n",
    "for i in range(3):\n",
    "    print(i) "
   ]
  },
  {
   "cell_type": "code",
   "execution_count": 3,
   "id": "b8d4651d-85a6-4b76-9c8f-e5241b83ccdf",
   "metadata": {},
   "outputs": [
    {
     "name": "stdout",
     "output_type": "stream",
     "text": [
      "*\n",
      "**\n",
      "***\n",
      "****\n"
     ]
    }
   ],
   "source": [
    "# while loop\n",
    "row = 1\n",
    "while row <= 4:\n",
    "    col = 1\n",
    "    while col <= row:\n",
    "        print(\"*\", end = \"\")\n",
    "        col = col+1\n",
    "    print()\n",
    "    row = row+1"
   ]
  },
  {
   "cell_type": "markdown",
   "id": "cb87d6f8-1ecd-4624-9324-6b3e2d5bf7a1",
   "metadata": {},
   "source": [
    "03) Compare and contrast mutable and immutable objects in python with examples."
   ]
  },
  {
   "cell_type": "raw",
   "id": "5070c01a-a61a-4019-a149-1278ca41cc26",
   "metadata": {},
   "source": [
    "Mutable Objects: Objects whose values or states can be changed after they are created.\n",
    "Immutable Objects: Objects whose values or states cannot be changed once they are created."
   ]
  },
  {
   "cell_type": "code",
   "execution_count": 4,
   "id": "1c582b17-2a71-45e0-8f95-3e07d2e285f0",
   "metadata": {},
   "outputs": [],
   "source": [
    "# mutable objects\n",
    "# list\n",
    "a = [1,2,3,\"pwskills\",\"datascience\"]"
   ]
  },
  {
   "cell_type": "code",
   "execution_count": 5,
   "id": "6e4d3047-c421-4b22-9324-1114b8833085",
   "metadata": {},
   "outputs": [
    {
     "data": {
      "text/plain": [
       "[1, 2, 3, 'pwskills', 'datascience']"
      ]
     },
     "execution_count": 5,
     "metadata": {},
     "output_type": "execute_result"
    }
   ],
   "source": [
    "a"
   ]
  },
  {
   "cell_type": "code",
   "execution_count": 6,
   "id": "ad17d030-c02c-4820-b8ff-f52adf5973fa",
   "metadata": {},
   "outputs": [
    {
     "data": {
      "text/plain": [
       "list"
      ]
     },
     "execution_count": 6,
     "metadata": {},
     "output_type": "execute_result"
    }
   ],
   "source": [
    "type(a)"
   ]
  },
  {
   "cell_type": "code",
   "execution_count": 7,
   "id": "317a377b-f604-46d6-ac3b-933a097f4c22",
   "metadata": {},
   "outputs": [],
   "source": [
    "a.append(\"xyz\")"
   ]
  },
  {
   "cell_type": "code",
   "execution_count": 8,
   "id": "4b006370-158b-44f2-a705-e05d1ab2b804",
   "metadata": {},
   "outputs": [
    {
     "data": {
      "text/plain": [
       "[1, 2, 3, 'pwskills', 'datascience', 'xyz']"
      ]
     },
     "execution_count": 8,
     "metadata": {},
     "output_type": "execute_result"
    }
   ],
   "source": [
    "a"
   ]
  },
  {
   "cell_type": "code",
   "execution_count": 9,
   "id": "80695b66-07cc-436b-aa1e-88d42769303e",
   "metadata": {},
   "outputs": [
    {
     "data": {
      "text/plain": [
       "[1, 2, 3, 'Aagman', 'datascience', 'xyz']"
      ]
     },
     "execution_count": 9,
     "metadata": {},
     "output_type": "execute_result"
    }
   ],
   "source": [
    "a[3] = \"Aagman\"\n",
    "a"
   ]
  },
  {
   "cell_type": "code",
   "execution_count": 21,
   "id": "3cb4824a-fab5-418e-a31e-05617bb0f134",
   "metadata": {},
   "outputs": [],
   "source": [
    "#immutable\n",
    "# strings\n",
    "str1 = \"Aagman, Tiwari, Abc, xy\""
   ]
  },
  {
   "cell_type": "code",
   "execution_count": 22,
   "id": "a21a5a48-d977-4c8c-aac1-7e0b309ca91b",
   "metadata": {},
   "outputs": [
    {
     "data": {
      "text/plain": [
       "'Aagman, Tiwari, Abc, xy'"
      ]
     },
     "execution_count": 22,
     "metadata": {},
     "output_type": "execute_result"
    }
   ],
   "source": [
    "str1"
   ]
  },
  {
   "cell_type": "code",
   "execution_count": 23,
   "id": "ab765b06-e8b9-4cfc-b4e0-20ee04c0ce9b",
   "metadata": {},
   "outputs": [
    {
     "data": {
      "text/plain": [
       "'g'"
      ]
     },
     "execution_count": 23,
     "metadata": {},
     "output_type": "execute_result"
    }
   ],
   "source": [
    "str1[2]"
   ]
  },
  {
   "cell_type": "code",
   "execution_count": 24,
   "id": "434ae74f-946f-4b09-8bd0-716d4bfae073",
   "metadata": {},
   "outputs": [
    {
     "ename": "TypeError",
     "evalue": "'str' object does not support item assignment",
     "output_type": "error",
     "traceback": [
      "\u001b[1;31m---------------------------------------------------------------------------\u001b[0m",
      "\u001b[1;31mTypeError\u001b[0m                                 Traceback (most recent call last)",
      "Cell \u001b[1;32mIn[24], line 1\u001b[0m\n\u001b[1;32m----> 1\u001b[0m \u001b[43mstr1\u001b[49m\u001b[43m[\u001b[49m\u001b[38;5;241;43m2\u001b[39;49m\u001b[43m]\u001b[49m \u001b[38;5;241m=\u001b[39m \u001b[38;5;124m\"\u001b[39m\u001b[38;5;124mbbbb\u001b[39m\u001b[38;5;124m\"\u001b[39m\n\u001b[0;32m      2\u001b[0m str1\n",
      "\u001b[1;31mTypeError\u001b[0m: 'str' object does not support item assignment"
     ]
    }
   ],
   "source": [
    "str1[2] = \"bbbb\"\n",
    "str1"
   ]
  },
  {
   "cell_type": "markdown",
   "id": "1f196451-cc54-45e6-8c95-e977461de9d8",
   "metadata": {},
   "source": [
    "04) Discuss the different types of operators in python with examples."
   ]
  },
  {
   "cell_type": "code",
   "execution_count": 25,
   "id": "776aaf18-7db1-43bb-a37b-63f5926adf93",
   "metadata": {},
   "outputs": [
    {
     "name": "stdout",
     "output_type": "stream",
     "text": [
      "13\n",
      "7\n",
      "30\n",
      "3.3333333333333335\n",
      "3\n",
      "1\n",
      "1000\n"
     ]
    }
   ],
   "source": [
    "# 01) Arithmetic Operators\n",
    "# Perform basic mathematical operations.\n",
    "# Examples: +, -, *, /, //, %, **\n",
    "a = 10\n",
    "b = 3\n",
    "print(a + b)  # Addition: 13\n",
    "print(a - b)  # Subtraction: 7\n",
    "print(a * b)  # Multiplication: 30\n",
    "print(a / b)  # Division: 3.333\n",
    "print(a // b) # Floor Division: 3\n",
    "print(a % b)  # Modulus: 1\n",
    "print(a ** b) # Exponentiation: 1000\n"
   ]
  },
  {
   "cell_type": "code",
   "execution_count": 26,
   "id": "c12aaea5-1e68-4b71-91fa-5a8f3ff97680",
   "metadata": {},
   "outputs": [
    {
     "name": "stdout",
     "output_type": "stream",
     "text": [
      "8\n"
     ]
    }
   ],
   "source": [
    "# 2.) Assignment Operators\n",
    "# Assign values to variables and perform compound operations.\n",
    "# Examples: =, +=, -=, *=, /=, %=, **=, //=\n",
    "x = 5\n",
    "x += 3  # Equivalent to x = x + 3\n",
    "print(x)  # Outputs: 8\n"
   ]
  },
  {
   "cell_type": "code",
   "execution_count": 27,
   "id": "f5afd23a-7170-45a7-aa4c-5df1b6406bab",
   "metadata": {},
   "outputs": [
    {
     "name": "stdout",
     "output_type": "stream",
     "text": [
      "False\n",
      "True\n",
      "False\n",
      "True\n"
     ]
    }
   ],
   "source": [
    "# 3. Comparison Operators\n",
    "# Compare two values and return a Boolean result (True or False).\n",
    "# Examples: ==, !=, >, <, >=, <=\n",
    "x = 10\n",
    "y = 20\n",
    "print(x == y)  # False\n",
    "print(x != y)  # True\n",
    "print(x > y)   # False\n",
    "print(x < y)   # True\n"
   ]
  },
  {
   "cell_type": "code",
   "execution_count": 28,
   "id": "614719c4-b361-439c-8229-84f2f8a0f529",
   "metadata": {},
   "outputs": [
    {
     "name": "stdout",
     "output_type": "stream",
     "text": [
      "False\n",
      "True\n",
      "False\n"
     ]
    }
   ],
   "source": [
    "# 4. Logical Operators\n",
    "# Perform logical operations and return Boolean values.\n",
    "# Examples: and, or, not\n",
    "x = True\n",
    "y = False\n",
    "print(x and y)  # False (both must be True)\n",
    "print(x or y)   # True (one must be True)\n",
    "print(not x)    # False (reverses the value)\n"
   ]
  },
  {
   "cell_type": "code",
   "execution_count": 29,
   "id": "28285568-9a8a-4824-9358-cfbe538dc95c",
   "metadata": {},
   "outputs": [
    {
     "name": "stdout",
     "output_type": "stream",
     "text": [
      "1\n",
      "7\n",
      "6\n",
      "-6\n",
      "10\n",
      "2\n"
     ]
    }
   ],
   "source": [
    "# 5. Bitwise Operators\n",
    "# Perform bit-level operations on binary numbers.\n",
    "# Examples: & (AND), | (OR), ^ (XOR), ~ (NOT), << (left shift), >> (right shift)\n",
    "a = 5  # Binary: 0101\n",
    "b = 3  # Binary: 0011\n",
    "print(a & b)  # Outputs: 1 (AND operation)\n",
    "print(a | b)  # Outputs: 7 (OR operation)\n",
    "print(a ^ b)  # Outputs: 6 (XOR operation)\n",
    "print(~a)     # Outputs: -6 (NOT operation)\n",
    "print(a << 1) # Outputs: 10 (Left shift)\n",
    "print(a >> 1) # Outputs: 2 (Right shift)\n"
   ]
  },
  {
   "cell_type": "code",
   "execution_count": 30,
   "id": "631c9e00-c9a8-414f-8bb3-88a7dd7d0eef",
   "metadata": {},
   "outputs": [
    {
     "name": "stdout",
     "output_type": "stream",
     "text": [
      "True\n",
      "False\n",
      "True\n"
     ]
    }
   ],
   "source": [
    "# 6. Identity Operators\n",
    "# Check if two variables refer to the same object.\n",
    "# Examples: is, is not\n",
    "x = [1, 2, 3]\n",
    "y = x\n",
    "z = [1, 2, 3]\n",
    "print(x is y)    # True (same object)\n",
    "print(x is z)    # False (different objects, same values)\n",
    "print(x is not z)  # True\n"
   ]
  },
  {
   "cell_type": "code",
   "execution_count": 31,
   "id": "2eb35b9f-3be2-4c1f-ba18-068c957498e4",
   "metadata": {},
   "outputs": [
    {
     "name": "stdout",
     "output_type": "stream",
     "text": [
      "True\n",
      "True\n"
     ]
    }
   ],
   "source": [
    "# 7. Membership Operators\n",
    "# Test if a value is a member of a sequence (e.g., list, string, tuple).\n",
    "# Examples: in, not in\n",
    "my_list = [1, 2, 3, 4, 5]\n",
    "print(3 in my_list)     # True\n",
    "print(6 not in my_list) # True\n"
   ]
  },
  {
   "cell_type": "markdown",
   "id": "b4ed9e91-4af1-46c6-97b6-c7efd923f3c4",
   "metadata": {},
   "source": [
    "05) Explain the concept of type casting in python with examples ."
   ]
  },
  {
   "cell_type": "raw",
   "id": "dfaf3df0-9f57-47cd-a1f7-b531b25b6270",
   "metadata": {},
   "source": [
    "Type Casting allows the conversion between different data types, either implicitly or explicitly.\n",
    "Implicit Casting is handled automatically by Python, while Explicit Casting requires the use of built-in functions."
   ]
  },
  {
   "cell_type": "code",
   "execution_count": 32,
   "id": "52d494f8-ac49-488d-8db2-93d9a9f7c3f0",
   "metadata": {},
   "outputs": [
    {
     "data": {
      "text/plain": [
       "int"
      ]
     },
     "execution_count": 32,
     "metadata": {},
     "output_type": "execute_result"
    }
   ],
   "source": [
    "# int to float\n",
    "a = 2\n",
    "type(a)"
   ]
  },
  {
   "cell_type": "code",
   "execution_count": 33,
   "id": "9ef9b894-24cc-4154-9e81-85524d6c7d1a",
   "metadata": {},
   "outputs": [
    {
     "data": {
      "text/plain": [
       "2.0"
      ]
     },
     "execution_count": 33,
     "metadata": {},
     "output_type": "execute_result"
    }
   ],
   "source": [
    "float(a)"
   ]
  },
  {
   "cell_type": "code",
   "execution_count": 35,
   "id": "5e0cfebf-3046-4179-b918-d7033b1afe19",
   "metadata": {},
   "outputs": [
    {
     "data": {
      "text/plain": [
       "float"
      ]
     },
     "execution_count": 35,
     "metadata": {},
     "output_type": "execute_result"
    }
   ],
   "source": [
    "type(float(a))"
   ]
  },
  {
   "cell_type": "code",
   "execution_count": 37,
   "id": "667b06c3-0747-4cb4-a6f6-0c384af72998",
   "metadata": {},
   "outputs": [
    {
     "data": {
      "text/plain": [
       "str"
      ]
     },
     "execution_count": 37,
     "metadata": {},
     "output_type": "execute_result"
    }
   ],
   "source": [
    "#explicit conversion\n",
    "a = \"2\"\n",
    "type(a)"
   ]
  },
  {
   "cell_type": "code",
   "execution_count": 38,
   "id": "67db991f-0a69-40fc-90ae-5c598ee36372",
   "metadata": {},
   "outputs": [],
   "source": [
    "a = int(a)"
   ]
  },
  {
   "cell_type": "code",
   "execution_count": 40,
   "id": "7c4faeaa-ed7c-4726-9020-b32303ded610",
   "metadata": {},
   "outputs": [
    {
     "data": {
      "text/plain": [
       "int"
      ]
     },
     "execution_count": 40,
     "metadata": {},
     "output_type": "execute_result"
    }
   ],
   "source": [
    "type(a)"
   ]
  },
  {
   "cell_type": "markdown",
   "id": "9ea1af36-a644-4b8e-82d2-8ed1da69bb05",
   "metadata": {},
   "source": [
    "06) How do conditional statements work in python ?illustae with examples."
   ]
  },
  {
   "cell_type": "raw",
   "id": "a291e39c-9cc4-44a1-8154-a5c4a104769f",
   "metadata": {},
   "source": [
    "if Statement: Executes a block of code if the condition is True.\n",
    "elif Statement: Provides an alternative condition to check if the previous if or elif conditions were False.\n",
    "else Statement: Executes a block of code if all preceding conditions are False.\n",
    "Nested Statements: You can nest conditional statements within each other for more complex decision-making."
   ]
  },
  {
   "cell_type": "code",
   "execution_count": 42,
   "id": "b4f16886-eaed-4f36-b885-70639c2c340c",
   "metadata": {},
   "outputs": [],
   "source": [
    "# if condition:\n",
    "#     # Block of code executed if the condition is True\n",
    "# elif another_condition:\n",
    "#     # Block of code executed if the previous condition is False and this condition is True\n",
    "# else:\n",
    "#     # Block of code executed if all previous conditions are False\n"
   ]
  },
  {
   "cell_type": "code",
   "execution_count": 44,
   "id": "7f696b60-6d30-48f5-a3e1-1341f5dfab2d",
   "metadata": {},
   "outputs": [
    {
     "name": "stdout",
     "output_type": "stream",
     "text": [
      "Grade: A\n"
     ]
    }
   ],
   "source": [
    "score = 93\n",
    "if score >= 90:\n",
    "    print(\"Grade: A\")\n",
    "elif score >= 80:\n",
    "    print(\"Grade: B\")  # This block executes because the condition is True.\n",
    "elif score >= 70:\n",
    "    print(\"Grade: C\")\n",
    "else:\n",
    "    print(\"Grade: D\")\n"
   ]
  },
  {
   "cell_type": "markdown",
   "id": "71252d87-ec06-4535-b87f-422f9ef7260d",
   "metadata": {},
   "source": [
    "07) Describe the different types of loops in python and their use cases with examples."
   ]
  },
  {
   "cell_type": "raw",
   "id": "4d6b1e79-c497-4b9e-88c8-5514ee407a93",
   "metadata": {},
   "source": [
    "For Loop: Used for iterating over a sequence or a known number of times.\n",
    "While Loop: Used when the number of iterations is not known and depends on a condition.\n",
    "Nested Loops: Allows for multi-dimensional data processing.\n",
    "Control Statements: break, continue, and pass provide additional control over loop execution."
   ]
  },
  {
   "cell_type": "code",
   "execution_count": 45,
   "id": "511eae27-265e-4f7b-b7e8-65860d34507f",
   "metadata": {},
   "outputs": [
    {
     "name": "stdout",
     "output_type": "stream",
     "text": [
      "1\n",
      "2\n",
      "3\n",
      "4\n",
      "5\n",
      "6\n"
     ]
    }
   ],
   "source": [
    "# while loop\n",
    "n = 7\n",
    "i = 1\n",
    "while i < n:\n",
    "    print(i)\n",
    "    i = i+1"
   ]
  },
  {
   "cell_type": "code",
   "execution_count": 46,
   "id": "1e4ca431-c1fa-4993-93af-b6e0c3baa262",
   "metadata": {},
   "outputs": [
    {
     "name": "stdout",
     "output_type": "stream",
     "text": [
      "* * * * \n",
      "* * * * \n",
      "* * * * \n",
      "* * * * \n"
     ]
    }
   ],
   "source": [
    "# for loop() for printing star pattern \n",
    "for i in range(4):\n",
    "    for j in range(4):\n",
    "        print(\"*\",end=\" \")\n",
    "    print()"
   ]
  },
  {
   "cell_type": "code",
   "execution_count": 47,
   "id": "bf56a538-e5b0-49e7-acc9-96cb78b0b219",
   "metadata": {},
   "outputs": [
    {
     "name": "stdout",
     "output_type": "stream",
     "text": [
      "1 * 1 = 1\n",
      "1 * 2 = 2\n",
      "1 * 3 = 3\n",
      "1 * 4 = 4\n",
      "1 * 5 = 5\n",
      "1 * 6 = 6\n",
      "1 * 7 = 7\n",
      "1 * 8 = 8\n",
      "1 * 9 = 9\n",
      "1 * 10 = 10\n",
      "\n",
      "2 * 1 = 2\n",
      "2 * 2 = 4\n",
      "2 * 3 = 6\n",
      "2 * 4 = 8\n",
      "2 * 5 = 10\n",
      "2 * 6 = 12\n",
      "2 * 7 = 14\n",
      "2 * 8 = 16\n",
      "2 * 9 = 18\n",
      "2 * 10 = 20\n",
      "\n",
      "3 * 1 = 3\n",
      "3 * 2 = 6\n",
      "3 * 3 = 9\n",
      "3 * 4 = 12\n",
      "3 * 5 = 15\n",
      "3 * 6 = 18\n",
      "3 * 7 = 21\n",
      "3 * 8 = 24\n",
      "3 * 9 = 27\n",
      "3 * 10 = 30\n",
      "\n",
      "4 * 1 = 4\n",
      "4 * 2 = 8\n",
      "4 * 3 = 12\n",
      "4 * 4 = 16\n",
      "4 * 5 = 20\n",
      "4 * 6 = 24\n",
      "4 * 7 = 28\n",
      "4 * 8 = 32\n",
      "4 * 9 = 36\n",
      "4 * 10 = 40\n",
      "\n",
      "5 * 1 = 5\n",
      "5 * 2 = 10\n",
      "5 * 3 = 15\n",
      "5 * 4 = 20\n",
      "5 * 5 = 25\n",
      "5 * 6 = 30\n",
      "5 * 7 = 35\n",
      "5 * 8 = 40\n",
      "5 * 9 = 45\n",
      "5 * 10 = 50\n",
      "\n",
      "6 * 1 = 6\n",
      "6 * 2 = 12\n",
      "6 * 3 = 18\n",
      "6 * 4 = 24\n",
      "6 * 5 = 30\n",
      "6 * 6 = 36\n",
      "6 * 7 = 42\n",
      "6 * 8 = 48\n",
      "6 * 9 = 54\n",
      "6 * 10 = 60\n",
      "\n",
      "7 * 1 = 7\n",
      "7 * 2 = 14\n",
      "7 * 3 = 21\n",
      "7 * 4 = 28\n",
      "7 * 5 = 35\n",
      "7 * 6 = 42\n",
      "7 * 7 = 49\n",
      "7 * 8 = 56\n",
      "7 * 9 = 63\n",
      "7 * 10 = 70\n",
      "\n",
      "8 * 1 = 8\n",
      "8 * 2 = 16\n",
      "8 * 3 = 24\n",
      "8 * 4 = 32\n",
      "8 * 5 = 40\n",
      "8 * 6 = 48\n",
      "8 * 7 = 56\n",
      "8 * 8 = 64\n",
      "8 * 9 = 72\n",
      "8 * 10 = 80\n",
      "\n",
      "9 * 1 = 9\n",
      "9 * 2 = 18\n",
      "9 * 3 = 27\n",
      "9 * 4 = 36\n",
      "9 * 5 = 45\n",
      "9 * 6 = 54\n",
      "9 * 7 = 63\n",
      "9 * 8 = 72\n",
      "9 * 9 = 81\n",
      "9 * 10 = 90\n",
      "\n",
      "10 * 1 = 10\n",
      "10 * 2 = 20\n",
      "10 * 3 = 30\n",
      "10 * 4 = 40\n",
      "10 * 5 = 50\n",
      "10 * 6 = 60\n",
      "10 * 7 = 70\n",
      "10 * 8 = 80\n",
      "10 * 9 = 90\n",
      "10 * 10 = 100\n",
      "\n"
     ]
    }
   ],
   "source": [
    "# for loop() --> for printing multiplication of a table\n",
    "for i in range(1,11):\n",
    "    for j in range(1,11):\n",
    "        product = i * j\n",
    "        print(f\"{i} * {j} = {product}\")\n",
    "    print()"
   ]
  },
  {
   "cell_type": "code",
   "execution_count": null,
   "id": "5dbda590-7d12-43c7-b276-f3b3fd9cf1a7",
   "metadata": {},
   "outputs": [],
   "source": []
  }
 ],
 "metadata": {
  "kernelspec": {
   "display_name": "Python 3 (ipykernel)",
   "language": "python",
   "name": "python3"
  },
  "language_info": {
   "codemirror_mode": {
    "name": "ipython",
    "version": 3
   },
   "file_extension": ".py",
   "mimetype": "text/x-python",
   "name": "python",
   "nbconvert_exporter": "python",
   "pygments_lexer": "ipython3",
   "version": "3.12.3"
  }
 },
 "nbformat": 4,
 "nbformat_minor": 5
}
