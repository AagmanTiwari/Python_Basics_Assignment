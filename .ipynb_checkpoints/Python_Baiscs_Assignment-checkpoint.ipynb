{
 "cells": [
  {
   "cell_type": "markdown",
   "id": "8704dbb0-836a-4900-aab0-feb0ad326a6e",
   "metadata": {},
   "source": [
    "01. Explain the key features of python that make it a popular choice for programming.\n"
   ]
  },
  {
   "cell_type": "raw",
   "id": "151e6a69-3a3a-4e0c-b5e8-4f754c56bb77",
   "metadata": {},
   "source": [
    "Key features of Python that make it popular:\n",
    "\n",
    "Easy to Learn & Use: Simple, readable syntax, suitable for beginners and professionals alike.\n",
    "Interpreted Language: Executes code line by line, making debugging easier.\n",
    "Dynamically Typed: No need to declare variable types explicitly.\n",
    "Extensive Libraries & Frameworks: Offers a wide range of libraries (NumPy, Pandas, TensorFlow, etc.) for diverse tasks like data science, web development, and AI.\n",
    "Cross-Platform: Runs on various operating systems like Windows, Linux, and macOS.\n",
    "Large Community & Support: Vast community, ensuring abundant resources and support.\n",
    "Object-Oriented & Functional: Supports multiple programming paradigms.\n",
    "Versatile: Can be used for web development, automation, data analysis, machine learning, and more."
   ]
  },
  {
   "cell_type": "markdown",
   "id": "840fa5d7-68d5-445b-a4c4-ed306d5e78f3",
   "metadata": {},
   "source": [
    "02) Describe the role of predefined keywords in python and provide examples of how they are used in a program."
   ]
  },
  {
   "cell_type": "raw",
   "id": "eb02e4d9-a360-48ad-9058-29e7b86f09ef",
   "metadata": {},
   "source": [
    "Role of Predefined Keywords in Python\n",
    "Reserved Words: Have specific meanings and cannot be used as identifiers.\n",
    "Control Program Flow: Manage conditions (if, else), loops (for, while), and function returns (return).\n",
    "Define Structure: Used to define functions (def), classes (class), and modules.\n",
    "Exception Handling: Manage errors with keywords like try, except, and finally.\n",
    "Variable Management: Control variable scope with global, nonlocal, and del.\n",
    "Case-Sensitive: Must be used exactly as defined in lowercase.\n",
    "\n",
    "\n",
    "\n",
    "\n",
    "\n"
   ]
  },
  {
   "cell_type": "code",
   "execution_count": 1,
   "id": "1ba27354-ae6a-43be-860e-616f5649a2a6",
   "metadata": {},
   "outputs": [
    {
     "name": "stdout",
     "output_type": "stream",
     "text": [
      "Adult\n"
     ]
    }
   ],
   "source": [
    "# Conditional Statement (if, else)\n",
    "\n",
    "age = 20\n",
    "if age >= 18:\n",
    "    print(\"Adult\")\n",
    "else:\n",
    "    print(\"not adult\")"
   ]
  },
  {
   "cell_type": "code",
   "execution_count": 2,
   "id": "7033e561-a6e1-4e66-9c46-8af5fc12933d",
   "metadata": {},
   "outputs": [
    {
     "name": "stdout",
     "output_type": "stream",
     "text": [
      "0\n",
      "1\n",
      "2\n"
     ]
    }
   ],
   "source": [
    "# Loop (for)\n",
    "for i in range(3):\n",
    "    print(i) "
   ]
  },
  {
   "cell_type": "code",
   "execution_count": 3,
   "id": "b8d4651d-85a6-4b76-9c8f-e5241b83ccdf",
   "metadata": {},
   "outputs": [
    {
     "name": "stdout",
     "output_type": "stream",
     "text": [
      "*\n",
      "**\n",
      "***\n",
      "****\n"
     ]
    }
   ],
   "source": [
    "# while loop\n",
    "row = 1\n",
    "while row <= 4:\n",
    "    col = 1\n",
    "    while col <= row:\n",
    "        print(\"*\", end = \"\")\n",
    "        col = col+1\n",
    "    print()\n",
    "    row = row+1"
   ]
  },
  {
   "cell_type": "markdown",
   "id": "cb87d6f8-1ecd-4624-9324-6b3e2d5bf7a1",
   "metadata": {},
   "source": [
    "03) Compare and contrast mutable and immutable objects in python with examples."
   ]
  },
  {
   "cell_type": "raw",
   "id": "5070c01a-a61a-4019-a149-1278ca41cc26",
   "metadata": {},
   "source": [
    "Mutable Objects: Objects whose values or states can be changed after they are created.\n",
    "Immutable Objects: Objects whose values or states cannot be changed once they are created."
   ]
  },
  {
   "cell_type": "code",
   "execution_count": 4,
   "id": "1c582b17-2a71-45e0-8f95-3e07d2e285f0",
   "metadata": {},
   "outputs": [],
   "source": [
    "# mutable objects\n",
    "# list\n",
    "a = [1,2,3,\"pwskills\",\"datascience\"]"
   ]
  },
  {
   "cell_type": "code",
   "execution_count": 5,
   "id": "6e4d3047-c421-4b22-9324-1114b8833085",
   "metadata": {},
   "outputs": [
    {
     "data": {
      "text/plain": [
       "[1, 2, 3, 'pwskills', 'datascience']"
      ]
     },
     "execution_count": 5,
     "metadata": {},
     "output_type": "execute_result"
    }
   ],
   "source": [
    "a"
   ]
  },
  {
   "cell_type": "code",
   "execution_count": 6,
   "id": "ad17d030-c02c-4820-b8ff-f52adf5973fa",
   "metadata": {},
   "outputs": [
    {
     "data": {
      "text/plain": [
       "list"
      ]
     },
     "execution_count": 6,
     "metadata": {},
     "output_type": "execute_result"
    }
   ],
   "source": [
    "type(a)"
   ]
  },
  {
   "cell_type": "code",
   "execution_count": 7,
   "id": "317a377b-f604-46d6-ac3b-933a097f4c22",
   "metadata": {},
   "outputs": [],
   "source": [
    "a.append(\"xyz\")"
   ]
  },
  {
   "cell_type": "code",
   "execution_count": 8,
   "id": "4b006370-158b-44f2-a705-e05d1ab2b804",
   "metadata": {},
   "outputs": [
    {
     "data": {
      "text/plain": [
       "[1, 2, 3, 'pwskills', 'datascience', 'xyz']"
      ]
     },
     "execution_count": 8,
     "metadata": {},
     "output_type": "execute_result"
    }
   ],
   "source": [
    "a"
   ]
  },
  {
   "cell_type": "code",
   "execution_count": 9,
   "id": "80695b66-07cc-436b-aa1e-88d42769303e",
   "metadata": {},
   "outputs": [
    {
     "data": {
      "text/plain": [
       "[1, 2, 3, 'Aagman', 'datascience', 'xyz']"
      ]
     },
     "execution_count": 9,
     "metadata": {},
     "output_type": "execute_result"
    }
   ],
   "source": [
    "a[3] = \"Aagman\"\n",
    "a"
   ]
  },
  {
   "cell_type": "code",
   "execution_count": 21,
   "id": "3cb4824a-fab5-418e-a31e-05617bb0f134",
   "metadata": {},
   "outputs": [],
   "source": [
    "#immutable\n",
    "# strings\n",
    "str1 = \"Aagman, Tiwari, Abc, xy\""
   ]
  },
  {
   "cell_type": "code",
   "execution_count": 22,
   "id": "a21a5a48-d977-4c8c-aac1-7e0b309ca91b",
   "metadata": {},
   "outputs": [
    {
     "data": {
      "text/plain": [
       "'Aagman, Tiwari, Abc, xy'"
      ]
     },
     "execution_count": 22,
     "metadata": {},
     "output_type": "execute_result"
    }
   ],
   "source": [
    "str1"
   ]
  },
  {
   "cell_type": "code",
   "execution_count": 23,
   "id": "ab765b06-e8b9-4cfc-b4e0-20ee04c0ce9b",
   "metadata": {},
   "outputs": [
    {
     "data": {
      "text/plain": [
       "'g'"
      ]
     },
     "execution_count": 23,
     "metadata": {},
     "output_type": "execute_result"
    }
   ],
   "source": [
    "str1[2]"
   ]
  },
  {
   "cell_type": "code",
   "execution_count": 24,
   "id": "434ae74f-946f-4b09-8bd0-716d4bfae073",
   "metadata": {},
   "outputs": [
    {
     "ename": "TypeError",
     "evalue": "'str' object does not support item assignment",
     "output_type": "error",
     "traceback": [
      "\u001b[1;31m---------------------------------------------------------------------------\u001b[0m",
      "\u001b[1;31mTypeError\u001b[0m                                 Traceback (most recent call last)",
      "Cell \u001b[1;32mIn[24], line 1\u001b[0m\n\u001b[1;32m----> 1\u001b[0m \u001b[43mstr1\u001b[49m\u001b[43m[\u001b[49m\u001b[38;5;241;43m2\u001b[39;49m\u001b[43m]\u001b[49m \u001b[38;5;241m=\u001b[39m \u001b[38;5;124m\"\u001b[39m\u001b[38;5;124mbbbb\u001b[39m\u001b[38;5;124m\"\u001b[39m\n\u001b[0;32m      2\u001b[0m str1\n",
      "\u001b[1;31mTypeError\u001b[0m: 'str' object does not support item assignment"
     ]
    }
   ],
   "source": [
    "str1[2] = \"bbbb\"\n",
    "str1"
   ]
  },
  {
   "cell_type": "code",
   "execution_count": null,
   "id": "3e0800ab-19ff-48ed-ac6c-cc661f8332e1",
   "metadata": {},
   "outputs": [],
   "source": []
  }
 ],
 "metadata": {
  "kernelspec": {
   "display_name": "Python 3 (ipykernel)",
   "language": "python",
   "name": "python3"
  },
  "language_info": {
   "codemirror_mode": {
    "name": "ipython",
    "version": 3
   },
   "file_extension": ".py",
   "mimetype": "text/x-python",
   "name": "python",
   "nbconvert_exporter": "python",
   "pygments_lexer": "ipython3",
   "version": "3.12.3"
  }
 },
 "nbformat": 4,
 "nbformat_minor": 5
}
